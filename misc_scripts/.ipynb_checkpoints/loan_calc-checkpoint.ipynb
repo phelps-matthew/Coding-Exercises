{
 "cells": [
  {
   "cell_type": "code",
   "execution_count": 56,
   "metadata": {},
   "outputs": [],
   "source": [
    "daily_rate = 0.0745/365\n",
    "defer_days = 274\n",
    "loan = 25200\n",
    "monthly_pay = 1196.75"
   ]
  },
  {
   "cell_type": "code",
   "execution_count": 63,
   "metadata": {},
   "outputs": [
    {
     "data": {
      "text/plain": [
       "1409.3358904109589"
      ]
     },
     "execution_count": 63,
     "metadata": {},
     "output_type": "execute_result"
    }
   ],
   "source": [
    "# Off from bill by about $1.29\n",
    "defer_interest = loan*daily_rate*defer_days\n",
    "defer_interest"
   ]
  },
  {
   "cell_type": "code",
   "execution_count": 5,
   "metadata": {},
   "outputs": [],
   "source": [
    "total_interest = 4721.92\n",
    "total_loan = loan + total_interest"
   ]
  },
  {
   "cell_type": "code",
   "execution_count": 6,
   "metadata": {},
   "outputs": [
    {
     "data": {
      "text/plain": [
       "0.18737777777777778"
      ]
     },
     "execution_count": 6,
     "metadata": {},
     "output_type": "execute_result"
    }
   ],
   "source": [
    "total_interest_percent = total_interest/loan\n",
    "total_interest_percent"
   ]
  },
  {
   "cell_type": "code",
   "execution_count": 9,
   "metadata": {},
   "outputs": [],
   "source": [
    "def print_loan(month, loan, interest, prin_payment):\n",
    "    out = \"month: {}\\nprinciple: {:.2f}\\ninterest pay: {:.2f}\\nprinc. pay: {:.2f}\".format(month, loan, interest, prin_payment)\n",
    "    print(out)\n",
    "    print(\"-\"*20)"
   ]
  },
  {
   "cell_type": "code",
   "execution_count": 41,
   "metadata": {},
   "outputs": [],
   "source": [
    "def amortized_interest(loan, m_pay, m_rate, month, net_interest=0, defer_interest=defer_interest):\n",
    "    interest = loan*m_rate\n",
    "    net_interest += interest\n",
    "    if loan <= m_pay:\n",
    "        prin_payment = loan - interest\n",
    "        print_loan(month, loan, interest, prin_payment)\n",
    "        print(\"Interest Total: {:.2f}\".format(net_interest + defer_interest))\n",
    "        return net_interest + defer_interest\n",
    "    prin_payment = m_pay - interest\n",
    "    principle = loan - prin_payment\n",
    "    print_loan(month, loan, interest, prin_payment)\n",
    "    print(\"Interest Total: {:.2f}\".format(net_interest))\n",
    "    return amortized_interest(principle, m_pay, m_rate, month+1, net_interest)"
   ]
  },
  {
   "cell_type": "code",
   "execution_count": 66,
   "metadata": {},
   "outputs": [
    {
     "name": "stdout",
     "output_type": "stream",
     "text": [
      "month: 1\n",
      "principle: 26609.34\n",
      "interest pay: 165.20\n",
      "princ. pay: 1031.55\n",
      "--------------------\n",
      "Interest Total: 165.20\n",
      "month: 2\n",
      "principle: 25577.79\n",
      "interest pay: 158.80\n",
      "princ. pay: 1037.95\n",
      "--------------------\n",
      "Interest Total: 324.00\n",
      "month: 3\n",
      "principle: 24539.83\n",
      "interest pay: 152.35\n",
      "princ. pay: 1044.40\n",
      "--------------------\n",
      "Interest Total: 476.35\n",
      "month: 4\n",
      "principle: 23495.43\n",
      "interest pay: 145.87\n",
      "princ. pay: 1050.88\n",
      "--------------------\n",
      "Interest Total: 622.21\n",
      "month: 5\n",
      "principle: 22444.55\n",
      "interest pay: 139.34\n",
      "princ. pay: 1057.41\n",
      "--------------------\n",
      "Interest Total: 761.56\n",
      "month: 6\n",
      "principle: 21387.14\n",
      "interest pay: 132.78\n",
      "princ. pay: 1063.97\n",
      "--------------------\n",
      "Interest Total: 894.34\n",
      "month: 7\n",
      "principle: 20323.17\n",
      "interest pay: 126.17\n",
      "princ. pay: 1070.58\n",
      "--------------------\n",
      "Interest Total: 1020.51\n",
      "month: 8\n",
      "principle: 19252.59\n",
      "interest pay: 119.53\n",
      "princ. pay: 1077.22\n",
      "--------------------\n",
      "Interest Total: 1140.04\n",
      "month: 9\n",
      "principle: 18175.37\n",
      "interest pay: 112.84\n",
      "princ. pay: 1083.91\n",
      "--------------------\n",
      "Interest Total: 1252.87\n",
      "month: 10\n",
      "principle: 17091.46\n",
      "interest pay: 106.11\n",
      "princ. pay: 1090.64\n",
      "--------------------\n",
      "Interest Total: 1358.98\n",
      "month: 11\n",
      "principle: 16000.82\n",
      "interest pay: 99.34\n",
      "princ. pay: 1097.41\n",
      "--------------------\n",
      "Interest Total: 1458.32\n",
      "month: 12\n",
      "principle: 14903.41\n",
      "interest pay: 92.53\n",
      "princ. pay: 1104.22\n",
      "--------------------\n",
      "Interest Total: 1550.85\n",
      "month: 13\n",
      "principle: 13799.18\n",
      "interest pay: 85.67\n",
      "princ. pay: 1111.08\n",
      "--------------------\n",
      "Interest Total: 1636.52\n",
      "month: 14\n",
      "principle: 12688.10\n",
      "interest pay: 78.77\n",
      "princ. pay: 1117.98\n",
      "--------------------\n",
      "Interest Total: 1715.29\n",
      "month: 15\n",
      "principle: 11570.13\n",
      "interest pay: 71.83\n",
      "princ. pay: 1124.92\n",
      "--------------------\n",
      "Interest Total: 1787.12\n",
      "month: 16\n",
      "principle: 10445.21\n",
      "interest pay: 64.85\n",
      "princ. pay: 1131.90\n",
      "--------------------\n",
      "Interest Total: 1851.97\n",
      "month: 17\n",
      "principle: 9313.30\n",
      "interest pay: 57.82\n",
      "princ. pay: 1138.93\n",
      "--------------------\n",
      "Interest Total: 1909.79\n",
      "month: 18\n",
      "principle: 8174.37\n",
      "interest pay: 50.75\n",
      "princ. pay: 1146.00\n",
      "--------------------\n",
      "Interest Total: 1960.54\n",
      "month: 19\n",
      "principle: 7028.37\n",
      "interest pay: 43.63\n",
      "princ. pay: 1153.12\n",
      "--------------------\n",
      "Interest Total: 2004.17\n",
      "month: 20\n",
      "principle: 5875.26\n",
      "interest pay: 36.48\n",
      "princ. pay: 1160.27\n",
      "--------------------\n",
      "Interest Total: 2040.65\n",
      "month: 21\n",
      "principle: 4714.98\n",
      "interest pay: 29.27\n",
      "princ. pay: 1167.48\n",
      "--------------------\n",
      "Interest Total: 2069.92\n",
      "month: 22\n",
      "principle: 3547.51\n",
      "interest pay: 22.02\n",
      "princ. pay: 1174.73\n",
      "--------------------\n",
      "Interest Total: 2091.94\n",
      "month: 23\n",
      "principle: 2372.78\n",
      "interest pay: 14.73\n",
      "princ. pay: 1182.02\n",
      "--------------------\n",
      "Interest Total: 2106.67\n",
      "month: 24\n",
      "principle: 1190.76\n",
      "interest pay: 7.39\n",
      "princ. pay: 1183.37\n",
      "--------------------\n",
      "Interest Total: 3523.40\n",
      "Payment Total: 28723.40\n"
     ]
    }
   ],
   "source": [
    "# Interest acrued from deferment period is added to principle\n",
    "net_interest = amortized_interest(loan + defer_interest, monthly_pay, daily_rate*365/12, 1)\n",
    "# Off from bill by about $1.48\n",
    "print(\"Payment Total: {:.2f}\".format(net_interest + loan))"
   ]
  },
  {
   "cell_type": "code",
   "execution_count": 80,
   "metadata": {},
   "outputs": [
    {
     "data": {
      "text/plain": [
       "0.1968083333333334"
      ]
     },
     "execution_count": 80,
     "metadata": {},
     "output_type": "execute_result"
    }
   ],
   "source": [
    "# More accurate comparison to paying outright\n",
    "pay_total = 28723.40\n",
    "loan_loss = (pay_total - 24000)/24000\n",
    "loan_loss"
   ]
  },
  {
   "cell_type": "code",
   "execution_count": 81,
   "metadata": {},
   "outputs": [
    {
     "data": {
      "text/plain": [
       "0.4080098039215687"
      ]
     },
     "execution_count": 81,
     "metadata": {},
     "output_type": "execute_result"
    }
   ],
   "source": [
    "# Updated break even for TSLA, w/ %15 LT Cap Gain; over 33 months\n",
    "tsla_gain = pay_total/(24000*0.85)-1\n",
    "tsla_gain"
   ]
  },
  {
   "cell_type": "code",
   "execution_count": 82,
   "metadata": {},
   "outputs": [
    {
     "data": {
      "text/plain": [
       "2112.014705882353"
      ]
     },
     "execution_count": 82,
     "metadata": {},
     "output_type": "execute_result"
    }
   ],
   "source": [
    "(tsla_gain + 1)*1500"
   ]
  },
  {
   "cell_type": "code",
   "execution_count": 83,
   "metadata": {},
   "outputs": [
    {
     "data": {
      "text/plain": [
       "119680.83333333334"
      ]
     },
     "execution_count": 83,
     "metadata": {},
     "output_type": "execute_result"
    }
   ],
   "source": [
    "# break even salary to compare to ISA\n",
    "pay_total/2/0.12"
   ]
  }
 ],
 "metadata": {
  "kernelspec": {
   "display_name": "Python 3",
   "language": "python",
   "name": "python3"
  },
  "language_info": {
   "codemirror_mode": {
    "name": "ipython",
    "version": 3
   },
   "file_extension": ".py",
   "mimetype": "text/x-python",
   "name": "python",
   "nbconvert_exporter": "python",
   "pygments_lexer": "ipython3",
   "version": "3.8.2"
  }
 },
 "nbformat": 4,
 "nbformat_minor": 4
}
