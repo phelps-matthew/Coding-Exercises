{
 "cells": [
  {
   "cell_type": "code",
   "execution_count": 55,
   "metadata": {},
   "outputs": [],
   "source": [
    "daily_rate = 0.0745/365\n",
    "defer_days = 274\n",
    "loan = 25200\n",
    "monthly_pay = 1196.75"
   ]
  },
  {
   "cell_type": "code",
   "execution_count": 62,
   "metadata": {},
   "outputs": [],
   "source": [
    "defer_interest = loan*daily_rate*defer_days"
   ]
  },
  {
   "cell_type": "code",
   "execution_count": 57,
   "metadata": {},
   "outputs": [],
   "source": [
    "total_interest = 4721.92\n",
    "total_loan = loan + total_interest"
   ]
  },
  {
   "cell_type": "code",
   "execution_count": 58,
   "metadata": {},
   "outputs": [
    {
     "data": {
      "text/plain": [
       "0.18737777777777778"
      ]
     },
     "execution_count": 58,
     "metadata": {},
     "output_type": "execute_result"
    }
   ],
   "source": [
    "total_interest_percent = total_interest/loan\n",
    "total_interest_percent"
   ]
  },
  {
   "cell_type": "code",
   "execution_count": 59,
   "metadata": {},
   "outputs": [
    {
     "data": {
      "text/plain": [
       "124674.66666666666"
      ]
     },
     "execution_count": 59,
     "metadata": {},
     "output_type": "execute_result"
    }
   ],
   "source": [
    "# break even salary to compare to ISA\n",
    "total_loan/2/0.12"
   ]
  },
  {
   "cell_type": "code",
   "execution_count": 78,
   "metadata": {},
   "outputs": [
    {
     "data": {
      "text/plain": [
       "1781.0666666666668"
      ]
     },
     "execution_count": 78,
     "metadata": {},
     "output_type": "execute_result"
    }
   ],
   "source": [
    "# TSLA break even with loan (over 33 months)\n",
    "(1+total_interest_percent)*1500"
   ]
  },
  {
   "cell_type": "code",
   "execution_count": 71,
   "metadata": {},
   "outputs": [],
   "source": [
    "def print_loan(month, loan, interest, prin_payment):\n",
    "    out = \"month: {}\\nprinciple: {:.2f}\\ninterest pay: {:.2f}\\nprinc. pay: {:.2f}\".format(month, loan, interest, prin_payment)\n",
    "    print(out)\n",
    "    print(\"-\"*20)"
   ]
  },
  {
   "cell_type": "code",
   "execution_count": 75,
   "metadata": {},
   "outputs": [],
   "source": [
    "def amortized_interest(loan, m_pay, m_rate, month):\n",
    "    if loan <= m_pay:\n",
    "        interest = loan*m_rate\n",
    "        prin_payment = loan - interest\n",
    "        print_loan(month, loan, interest, prin_payment)\n",
    "        return\n",
    "    interest = loan*m_rate\n",
    "    prin_payment = m_pay - interest\n",
    "    principle = loan - prin_payment\n",
    "    print_loan(month, loan, interest, prin_payment)\n",
    "    return amortized_interest(principle, m_pay, m_rate, month+1)"
   ]
  },
  {
   "cell_type": "code",
   "execution_count": 76,
   "metadata": {},
   "outputs": [
    {
     "name": "stdout",
     "output_type": "stream",
     "text": [
      "month: 1\n",
      "principle: 26609.34\n",
      "interest pay: 162.94\n",
      "princ. pay: 1033.81\n",
      "--------------------\n",
      "month: 2\n",
      "principle: 25575.52\n",
      "interest pay: 156.61\n",
      "princ. pay: 1040.14\n",
      "--------------------\n",
      "month: 3\n",
      "principle: 24535.38\n",
      "interest pay: 150.24\n",
      "princ. pay: 1046.51\n",
      "--------------------\n",
      "month: 4\n",
      "principle: 23488.87\n",
      "interest pay: 143.83\n",
      "princ. pay: 1052.92\n",
      "--------------------\n",
      "month: 5\n",
      "principle: 22435.95\n",
      "interest pay: 137.38\n",
      "princ. pay: 1059.37\n",
      "--------------------\n",
      "month: 6\n",
      "principle: 21376.58\n",
      "interest pay: 130.89\n",
      "princ. pay: 1065.86\n",
      "--------------------\n",
      "month: 7\n",
      "principle: 20310.72\n",
      "interest pay: 124.37\n",
      "princ. pay: 1072.38\n",
      "--------------------\n",
      "month: 8\n",
      "principle: 19238.34\n",
      "interest pay: 117.80\n",
      "princ. pay: 1078.95\n",
      "--------------------\n",
      "month: 9\n",
      "principle: 18159.39\n",
      "interest pay: 111.20\n",
      "princ. pay: 1085.55\n",
      "--------------------\n",
      "month: 10\n",
      "principle: 17073.84\n",
      "interest pay: 104.55\n",
      "princ. pay: 1092.20\n",
      "--------------------\n",
      "month: 11\n",
      "principle: 15981.64\n",
      "interest pay: 97.86\n",
      "princ. pay: 1098.89\n",
      "--------------------\n",
      "month: 12\n",
      "principle: 14882.75\n",
      "interest pay: 91.13\n",
      "princ. pay: 1105.62\n",
      "--------------------\n",
      "month: 13\n",
      "principle: 13777.13\n",
      "interest pay: 84.36\n",
      "princ. pay: 1112.39\n",
      "--------------------\n",
      "month: 14\n",
      "principle: 12664.74\n",
      "interest pay: 77.55\n",
      "princ. pay: 1119.20\n",
      "--------------------\n",
      "month: 15\n",
      "principle: 11545.54\n",
      "interest pay: 70.70\n",
      "princ. pay: 1126.05\n",
      "--------------------\n",
      "month: 16\n",
      "principle: 10419.48\n",
      "interest pay: 63.80\n",
      "princ. pay: 1132.95\n",
      "--------------------\n",
      "month: 17\n",
      "principle: 9286.54\n",
      "interest pay: 56.86\n",
      "princ. pay: 1139.89\n",
      "--------------------\n",
      "month: 18\n",
      "principle: 8146.65\n",
      "interest pay: 49.88\n",
      "princ. pay: 1146.87\n",
      "--------------------\n",
      "month: 19\n",
      "principle: 6999.78\n",
      "interest pay: 42.86\n",
      "princ. pay: 1153.89\n",
      "--------------------\n",
      "month: 20\n",
      "principle: 5845.90\n",
      "interest pay: 35.80\n",
      "princ. pay: 1160.95\n",
      "--------------------\n",
      "month: 21\n",
      "principle: 4684.94\n",
      "interest pay: 28.69\n",
      "princ. pay: 1168.06\n",
      "--------------------\n",
      "month: 22\n",
      "principle: 3516.88\n",
      "interest pay: 21.53\n",
      "princ. pay: 1175.22\n",
      "--------------------\n",
      "month: 23\n",
      "principle: 2341.66\n",
      "interest pay: 14.34\n",
      "princ. pay: 1182.41\n",
      "--------------------\n",
      "month: 24\n",
      "principle: 1159.25\n",
      "interest pay: 7.10\n",
      "princ. pay: 1152.15\n",
      "--------------------\n"
     ]
    }
   ],
   "source": [
    "# Interest acrued from deferment period is added to principle\n",
    "amortized_interest(loan + defer_interest, monthly_pay, daily_rate*30, 1)"
   ]
  }
 ],
 "metadata": {
  "kernelspec": {
   "display_name": "Python 3",
   "language": "python",
   "name": "python3"
  },
  "language_info": {
   "codemirror_mode": {
    "name": "ipython",
    "version": 3
   },
   "file_extension": ".py",
   "mimetype": "text/x-python",
   "name": "python",
   "nbconvert_exporter": "python",
   "pygments_lexer": "ipython3",
   "version": "3.8.2"
  }
 },
 "nbformat": 4,
 "nbformat_minor": 4
}
